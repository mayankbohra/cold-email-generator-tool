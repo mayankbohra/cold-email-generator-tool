{
 "cells": [
  {
   "cell_type": "code",
   "execution_count": 1,
   "metadata": {},
   "outputs": [
    {
     "name": "stdout",
     "output_type": "stream",
     "text": [
      "The capital of France is Paris.\n"
     ]
    }
   ],
   "source": [
    "from langchain_groq import ChatGroq # type: ignore\n",
    "\n",
    "llm = ChatGroq(\n",
    "    temperature=0,\n",
    "    groq_api_key = \"your_api_key\",\n",
    "    model=\"llama-3.1-70b-versatile\",\n",
    ")\n",
    "\n",
    "response = llm.invoke(\"What is the capital of France?\")\n",
    "print(response.content)"
   ]
  },
  {
   "cell_type": "code",
   "execution_count": 11,
   "metadata": {},
   "outputs": [
    {
     "name": "stdout",
     "output_type": "stream",
     "text": [
      " Juspay Careers | SDE - Functional Programming\n",
      "\n",
      "             J U S P A Y       About us    Docs    Integrations      REGION           Southeast Asia (SEA)                Latin America (LATAM)     English  Potugûes              North America                Europe                India              Contact us              SDE - Functional Programming    JUSPAY is a Payments Exchange connecting merchants, payment providers and banks.\n",
      "With a deep focus on delivering seamless payments UX at scale, we are trusted partners for all major internet companies in India. After surpassing 200M SDK installs and building systems handling the highest payments traffic in India of 2000 TPS, we are now making the next stride to power end-to-end payments for India.\n",
      "99.999% Availability | 50M Txns/day | 1-Click Experience\n",
      "What will you be doing?\n",
      "You’ll be working on the core problems pertaining to our centers of excellence. Each of our Centres of Excellence balances the dual of Framework Development (The Ideal) and Business Enablement (The Practical)\n",
      "\n",
      "Backend: Business Logic to handle evolving payment requirements (UPI, Integrations, Authentication) flexibly\n",
      "\n",
      "Biggest FP company with entire business logic in FP\n",
      "Concise Expression of complex Payment Logic\n",
      "API Integrations\n",
      "\n",
      "\n",
      "Data Science: Intelligence from more than a billion transactions to enable automated and smart payment operations\n",
      "\n",
      "Intelligent traffic routing\n",
      "Self-Healing systems\n",
      "Automatic Anomaly Detection\n",
      "Intelligent Payment Assist\n",
      "AI-powered Payment Operations\n",
      "Aesthetic Visualization of Data\n",
      "\n",
      "\n",
      "Infrastructure: Reliable and 99.999% Available infrastructure which can power payments for India\n",
      "\n",
      "Multi-DC Architecture\n",
      "Infrastructure DSL for unified management at scale\n",
      "Distributed computing in Edge devices\n",
      "\n",
      "\n",
      "\n",
      "Apply if you are:\n",
      "\n",
      "Passionate about programming and curious about Functional Programming (FP) with more than 1 year of development experience.\n",
      "A seeker of depth who sees work as a means to achieve it.\n",
      "Looking for aesthetic in your code.\n",
      "Someone who can stick to a project for long stretches of time, either to solve a hard problem or to achieve a high bar of perfection (marathoner).\n",
      "An ambitious and constant learner who takes challenges to up-skill yourself.\n",
      "\n",
      "Why work in Juspay?\n",
      "Payments.. big deal?\n",
      "Yes, it is a big deal. The wind is strongly blowing in favor of electronic payments - India wants to buy/order everything online, go cashless (regulation) and can’t have enough of using smartphones! Startups and internet businesses currently see a payment’ success rate of 60% ( 40 out of 100 people fail during the payments process!). These businesses that will define our future are absolutely dependent on solving digital payments. Big industry with bigger problems to solve!\n",
      "How can Engineering solve this?\n",
      "Payments is a complex ecosystem involving banks, RBI regulations, payment networks, telecom infrastructure, online and offline merchants. There is no way to align all these stars without radical engineering innovation. Talk to us about it.\n",
      "What does Juspay offer?\n",
      "You get the opportunity to work in a free liberal environment with some of the best engineers and entrepreneurs. We live & breathe the art of building amazing products with impeccable engineering. We have heavily invested on new methods of engineering using Functional Programming/FRP, Haskell/Purescript and Scalable Data Systems. We want more innovators and a little bit of madness to take it further. For us office is like home with everything needed to make us comfortably code all day and chill out too. We have a full size piano, drums and a Shruti box if you are into music :) Lots of books, pictionary and interesting people to talk to about varied subjects - art, philosophy and of course about how to do the highest feats of engineering/design. We take an active interest in helping people reach their highest potential.  \n",
      "Interested in this opening? Reach out to us at  careers@juspay.in                  Company       About Us     Blogs     Case Studies     Newsroom     Careers     Contact        Compliances       Vulnerability Disclosure     Payment Aggregation     PCI DSS 4.0     ISO 27001:2022     SOC 2 Type 2        Resources       Merchant Home     API Documentation     Blog         Copyright 2024. Juspay Technologies. All rights reserved.    Privacy Policy  Terms of Service                   \n"
     ]
    }
   ],
   "source": [
    "from langchain_community.document_loaders import WebBaseLoader\n",
    "\n",
    "loader = WebBaseLoader(\"https://juspay.io/careers/sde-functional-programming\")\n",
    "page_data = loader.load().pop().page_content\n",
    "print(page_data)"
   ]
  },
  {
   "cell_type": "code",
   "execution_count": 12,
   "metadata": {},
   "outputs": [
    {
     "name": "stdout",
     "output_type": "stream",
     "text": [
      "```\n",
      "{\n",
      "  \"role\": \"SDE - Functional Programming\",\n",
      "  \"experience\": \"more than 1 year of development experience\",\n",
      "  \"skills\": [\n",
      "    \"Functional Programming (FP)\",\n",
      "    \"Backend development\",\n",
      "    \"Data Science\",\n",
      "    \"Infrastructure development\",\n",
      "    \"Haskell/Purescript\",\n",
      "    \"Scalable Data Systems\"\n",
      "  ],\n",
      "  \"description\": \"You’ll be working on the core problems pertaining to our centers of excellence. Each of our Centres of Excellence balances the dual of Framework Development (The Ideal) and Business Enablement (The Practical). You will be working on Backend: Business Logic to handle evolving payment requirements, Data Science: Intelligence from more than a billion transactions to enable automated and smart payment operations, and Infrastructure: Reliable and 99.999% Available infrastructure which can power payments for India.\"\n",
      "}\n",
      "```\n"
     ]
    }
   ],
   "source": [
    "from langchain_core.prompts import PromptTemplate\n",
    "\n",
    "prompt_extract = PromptTemplate.from_template(\n",
    "        \"\"\"\n",
    "        ### SCRAPED TEXT FROM WEBSITE:\n",
    "        {page_data}\n",
    "        ### INSTRUCTION:\n",
    "        The scraped text is from the career's page of a website.\n",
    "        Your job is to extract the job postings and return them in JSON format containing the \n",
    "        following keys: `role`, `experience`, `skills` and `description`.\n",
    "        Only return the valid JSON.\n",
    "        ### VALID JSON (NO PREAMBLE):    \n",
    "        \"\"\"\n",
    ")\n",
    "\n",
    "chain_extract = prompt_extract | llm \n",
    "res = chain_extract.invoke(input={'page_data':page_data})\n",
    "print(res.content)"
   ]
  },
  {
   "cell_type": "code",
   "execution_count": 13,
   "metadata": {},
   "outputs": [
    {
     "data": {
      "text/plain": [
       "{'role': 'SDE - Functional Programming',\n",
       " 'experience': 'more than 1 year of development experience',\n",
       " 'skills': ['Functional Programming (FP)',\n",
       "  'Backend development',\n",
       "  'Data Science',\n",
       "  'Infrastructure development',\n",
       "  'Haskell/Purescript',\n",
       "  'Scalable Data Systems'],\n",
       " 'description': 'You’ll be working on the core problems pertaining to our centers of excellence. Each of our Centres of Excellence balances the dual of Framework Development (The Ideal) and Business Enablement (The Practical). You will be working on Backend: Business Logic to handle evolving payment requirements, Data Science: Intelligence from more than a billion transactions to enable automated and smart payment operations, and Infrastructure: Reliable and 99.999% Available infrastructure which can power payments for India.'}"
      ]
     },
     "execution_count": 13,
     "metadata": {},
     "output_type": "execute_result"
    }
   ],
   "source": [
    "from langchain_core.output_parsers import JsonOutputParser\n",
    "\n",
    "json_parser = JsonOutputParser()\n",
    "json_res = json_parser.parse(res.content)\n",
    "json_res"
   ]
  },
  {
   "cell_type": "code",
   "execution_count": 15,
   "metadata": {},
   "outputs": [
    {
     "data": {
      "text/html": [
       "<div>\n",
       "<style scoped>\n",
       "    .dataframe tbody tr th:only-of-type {\n",
       "        vertical-align: middle;\n",
       "    }\n",
       "\n",
       "    .dataframe tbody tr th {\n",
       "        vertical-align: top;\n",
       "    }\n",
       "\n",
       "    .dataframe thead th {\n",
       "        text-align: right;\n",
       "    }\n",
       "</style>\n",
       "<table border=\"1\" class=\"dataframe\">\n",
       "  <thead>\n",
       "    <tr style=\"text-align: right;\">\n",
       "      <th></th>\n",
       "      <th>Techstack</th>\n",
       "      <th>Links</th>\n",
       "    </tr>\n",
       "  </thead>\n",
       "  <tbody>\n",
       "    <tr>\n",
       "      <th>0</th>\n",
       "      <td>React, Node.js, MongoDB</td>\n",
       "      <td>https://example.com/react-portfolio</td>\n",
       "    </tr>\n",
       "    <tr>\n",
       "      <th>1</th>\n",
       "      <td>Angular,.NET, SQL Server</td>\n",
       "      <td>https://example.com/angular-portfolio</td>\n",
       "    </tr>\n",
       "    <tr>\n",
       "      <th>2</th>\n",
       "      <td>Vue.js, Ruby on Rails, PostgreSQL</td>\n",
       "      <td>https://example.com/vue-portfolio</td>\n",
       "    </tr>\n",
       "    <tr>\n",
       "      <th>3</th>\n",
       "      <td>Python, Django, MySQL</td>\n",
       "      <td>https://example.com/python-portfolio</td>\n",
       "    </tr>\n",
       "    <tr>\n",
       "      <th>4</th>\n",
       "      <td>Java, Spring Boot, Oracle</td>\n",
       "      <td>https://example.com/java-portfolio</td>\n",
       "    </tr>\n",
       "  </tbody>\n",
       "</table>\n",
       "</div>"
      ],
      "text/plain": [
       "                           Techstack                                  Links\n",
       "0            React, Node.js, MongoDB    https://example.com/react-portfolio\n",
       "1           Angular,.NET, SQL Server  https://example.com/angular-portfolio\n",
       "2  Vue.js, Ruby on Rails, PostgreSQL      https://example.com/vue-portfolio\n",
       "3              Python, Django, MySQL   https://example.com/python-portfolio\n",
       "4          Java, Spring Boot, Oracle     https://example.com/java-portfolio"
      ]
     },
     "execution_count": 15,
     "metadata": {},
     "output_type": "execute_result"
    }
   ],
   "source": [
    "import pandas as pd\n",
    "\n",
    "df = pd.read_csv(\"portfolio.csv\")\n",
    "df.head()"
   ]
  },
  {
   "cell_type": "code",
   "execution_count": 16,
   "metadata": {},
   "outputs": [],
   "source": [
    "import uuid\n",
    "import chromadb\n",
    "\n",
    "client = chromadb.PersistentClient('vectorstore')\n",
    "collection = client.get_or_create_collection(name=\"portfolio\")\n",
    "\n",
    "if not collection.count():\n",
    "    for _, row in df.iterrows():\n",
    "        collection.add(documents=row[\"Techstack\"],\n",
    "                       metadatas={\"links\": row[\"Links\"]},\n",
    "                       ids=[str(uuid.uuid4())])"
   ]
  },
  {
   "cell_type": "code",
   "execution_count": 20,
   "metadata": {},
   "outputs": [
    {
     "data": {
      "text/plain": [
       "['Functional Programming (FP)',\n",
       " 'Backend development',\n",
       " 'Data Science',\n",
       " 'Infrastructure development',\n",
       " 'Haskell/Purescript',\n",
       " 'Scalable Data Systems']"
      ]
     },
     "execution_count": 20,
     "metadata": {},
     "output_type": "execute_result"
    }
   ],
   "source": [
    "job = json_res\n",
    "job['skills']"
   ]
  },
  {
   "cell_type": "code",
   "execution_count": 21,
   "metadata": {},
   "outputs": [
    {
     "data": {
      "text/plain": [
       "[[{'links': 'https://example.com/ml-python-portfolio'},\n",
       "  {'links': 'https://example.com/full-stack-js-portfolio'}],\n",
       " [{'links': 'https://example.com/kotlin-backend-portfolio'},\n",
       "  {'links': 'https://example.com/typescript-frontend-portfolio'}],\n",
       " [{'links': 'https://example.com/ml-python-portfolio'},\n",
       "  {'links': 'https://example.com/magento-portfolio'}],\n",
       " [{'links': 'https://example.com/devops-portfolio'},\n",
       "  {'links': 'https://example.com/ml-python-portfolio'}],\n",
       " [{'links': 'https://example.com/full-stack-js-portfolio'},\n",
       "  {'links': 'https://example.com/typescript-frontend-portfolio'}],\n",
       " [{'links': 'https://example.com/magento-portfolio'},\n",
       "  {'links': 'https://example.com/ios-portfolio'}]]"
      ]
     },
     "execution_count": 21,
     "metadata": {},
     "output_type": "execute_result"
    }
   ],
   "source": [
    "links = collection.query(query_texts=job['skills'], n_results=2).get('metadatas', [])\n",
    "links"
   ]
  },
  {
   "cell_type": "code",
   "execution_count": 22,
   "metadata": {},
   "outputs": [
    {
     "name": "stdout",
     "output_type": "stream",
     "text": [
      "Subject: Expertise in Functional Programming and Scalable Data Systems for Payment Solutions\n",
      "\n",
      "Dear Hiring Manager,\n",
      "\n",
      "I came across your job description for an SDE - Functional Programming role, and I was impressed by the exciting challenges your team is tackling. As a Business Development Manager at Infosys, I'd like to introduce you to our expertise in delivering AI-driven solutions and software that can help streamline your business operations.\n",
      "\n",
      "Our team has extensive experience in Functional Programming (FP), Backend development, Data Science, and Infrastructure development, aligning perfectly with your requirements. We've worked with clients in the payments industry, helping them build scalable and reliable systems that can handle high volumes of transactions.\n",
      "\n",
      "I'd like to highlight a few case studies that demonstrate our capabilities:\n",
      "\n",
      "* We developed a scalable data analytics platform for a leading payment processing company using Haskell and Purescript, which enabled them to process over 1 billion transactions per day. (https://example.com/ml-python-portfolio)\n",
      "* Our team built a real-time payment processing system for a fintech startup using a full-stack JavaScript framework, which resulted in a 30% increase in transaction speed. (https://example.com/full-stack-js-portfolio)\n",
      "* We also designed and implemented a DevOps strategy for a payment gateway company, which improved their infrastructure availability to 99.999%. (https://example.com/devops-portfolio)\n",
      "\n",
      "Our expertise in Functional Programming, combined with our experience in building scalable data systems, makes us an ideal partner for your project. We'd love to discuss how our team can help you tackle the core problems pertaining to your centers of excellence.\n",
      "\n",
      "If you're interested in learning more about our capabilities and how we can help your organization, I'd be happy to schedule a call.\n",
      "\n",
      "Best regards,\n",
      "\n",
      "Rohan\n",
      "Business Development Manager\n",
      "Infosys\n"
     ]
    }
   ],
   "source": [
    "prompt_email = PromptTemplate.from_template(\n",
    "    \"\"\"\n",
    "    ### JOB DESCRIPTION:\n",
    "    {job_description}\n",
    "    \n",
    "    ### INSTRUCTION:\n",
    "    You are Rohan, a business development manager at Infosys. Infosys is a leading global provider of IT consulting and \n",
    "    services, specializing in delivering AI-driven solutions and software that streamline business operations. \n",
    "    Over the years, we have helped numerous organizations transform their business through customized digital solutions, \n",
    "    enhancing scalability, optimizing processes, reducing costs, and improving overall efficiency.\n",
    "    Your task is to craft a cold email to the client based on the job description mentioned above, \n",
    "    highlighting Infosys's ability to meet their needs.\n",
    "    Also, include the most relevant case studies or projects from the following links to showcase Infosys's portfolio: {link_list}.\n",
    "    Write the email as if you are Rohan, BDM at Infosys.\n",
    "    ### EMAIL (NO PREAMBLE):\n",
    "    \n",
    "    \"\"\"\n",
    ")\n",
    "\n",
    "chain_email = prompt_email | llm\n",
    "res = chain_email.invoke({\"job_description\": str(job), \"link_list\": links})\n",
    "print(res.content)\n"
   ]
  }
 ],
 "metadata": {
  "kernelspec": {
   "display_name": "Python 3",
   "language": "python",
   "name": "python3"
  },
  "language_info": {
   "codemirror_mode": {
    "name": "ipython",
    "version": 3
   },
   "file_extension": ".py",
   "mimetype": "text/x-python",
   "name": "python",
   "nbconvert_exporter": "python",
   "pygments_lexer": "ipython3",
   "version": "3.10.6"
  }
 },
 "nbformat": 4,
 "nbformat_minor": 2
}
